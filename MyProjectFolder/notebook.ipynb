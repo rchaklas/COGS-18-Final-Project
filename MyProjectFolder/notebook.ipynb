{
 "cells": [
  {
   "cell_type": "markdown",
   "metadata": {},
   "source": [
    "COGS 18 Raam Chaklashiya Final Project\n",
    "\n",
    "For my project, I experimented with the artificial agents from assignment 4 and modified them to only move diagonally. "
   ]
  },
  {
   "cell_type": "code",
   "execution_count": 1,
   "metadata": {
    "scrolled": true
   },
   "outputs": [],
   "source": [
    "from modules import functions"
   ]
  },
  {
   "cell_type": "markdown",
   "metadata": {},
   "source": [
    "This runs my tests, which check if my movement functions properly work given a starting coordinate of [5, 5]"
   ]
  },
  {
   "cell_type": "code",
   "execution_count": 2,
   "metadata": {
    "scrolled": true
   },
   "outputs": [
    {
     "name": "stdout",
     "output_type": "stream",
     "text": [
      "============================= test session starts =============================\n",
      "platform win32 -- Python 3.7.6, pytest-5.3.5, py-1.8.1, pluggy-0.13.1\n",
      "rootdir: C:\\Users\\RaamC\\Desktop\\MyProjectFolder\n",
      "plugins: hypothesis-5.5.4, arraydiff-0.3, astropy-header-0.1.2, doctestplus-0.5.0, openfiles-0.4.0, remotedata-0.3.2\n",
      "collected 4 items\n",
      "\n",
      "modules\\test_functions.py ....                                           [100%]\n",
      "\n",
      "============================== 4 passed in 0.30s ==============================\n"
     ]
    }
   ],
   "source": [
    "!pytest modules/test_functions.py"
   ]
  },
  {
   "cell_type": "markdown",
   "metadata": {},
   "source": [
    "The first bot is a bot that is the WanderBot from assignment 4 that only moves diagonally."
   ]
  },
  {
   "cell_type": "code",
   "execution_count": 3,
   "metadata": {},
   "outputs": [
    {
     "name": "stdout",
     "output_type": "stream",
     "text": [
      "⌖ . . . .\n",
      ". . . . .\n",
      ". . . . .\n",
      ". . . . .\n",
      ". . . . .\n"
     ]
    }
   ],
   "source": [
    "bot = functions.WanderDiagonal()\n",
    "functions.play_board(bot, grid_size = 5)"
   ]
  },
  {
   "cell_type": "markdown",
   "metadata": {},
   "source": [
    "The second bot is a bot that is the ExploreBot from assignment 4 that only moves diagonally."
   ]
  },
  {
   "cell_type": "code",
   "execution_count": 4,
   "metadata": {},
   "outputs": [
    {
     "name": "stdout",
     "output_type": "stream",
     "text": [
      ". . . . . . .\n",
      ". . . . . . .\n",
      ". . . . . . .\n",
      ". . . . . . .\n",
      ". ⌖ . . . . .\n",
      ". . . . . . .\n",
      ". . . . . . .\n"
     ]
    }
   ],
   "source": [
    "bot = functions.StraightDiagonal()\n",
    "functions.play_board(bot, grid_size = 7)"
   ]
  },
  {
   "cell_type": "markdown",
   "metadata": {},
   "source": [
    "The last bot is an original bot that moves in a pre-specified \"8\" shape."
   ]
  },
  {
   "cell_type": "code",
   "execution_count": 5,
   "metadata": {},
   "outputs": [
    {
     "name": "stdout",
     "output_type": "stream",
     "text": [
      ". . . . . . . . . . . . .\n",
      ". . . . . . . . . . . . .\n",
      ". . . . . . . . . . . . .\n",
      ". . . . . . . . . . . . .\n",
      ". . . . . . . . . . . . .\n",
      ". . . . . . . . . . . . .\n",
      ". . . . . . ⌖ . . . . . .\n",
      ". . . . . . . . . . . . .\n",
      ". . . . . . . . . . . . .\n",
      ". . . . . . . . . . . . .\n",
      ". . . . . . . . . . . . .\n",
      ". . . . . . . . . . . . .\n",
      ". . . . . . . . . . . . .\n"
     ]
    }
   ],
   "source": [
    "bot = functions.FigureEight()\n",
    "functions.play_board(bot, grid_size = 13)"
   ]
  },
  {
   "cell_type": "markdown",
   "metadata": {},
   "source": [
    "All of the bots together:"
   ]
  },
  {
   "cell_type": "code",
   "execution_count": 6,
   "metadata": {},
   "outputs": [
    {
     "name": "stdout",
     "output_type": "stream",
     "text": [
      ". . . . . . . . . . . . .\n",
      ". . . . . . . . . . . . .\n",
      ". . . . . . . . . . . . .\n",
      ". . . . . . . . . . . . .\n",
      ". . . . . . . . . . . . .\n",
      ". . . . . . . . . . . . .\n",
      ". . ⌖ . . . ⌖ . . . . . .\n",
      ". . . . . . . . . . . . .\n",
      ". . . . . . . . . . . . .\n",
      ". . . . . . . . . . . . .\n",
      ". . . . . . . . . . . . .\n",
      ". . . . . . . . . . . . .\n",
      ". . . ⌖ . . . . . . . . .\n"
     ]
    }
   ],
   "source": [
    "bots = [functions.WanderDiagonal(), functions.FigureEight(), functions.StraightDiagonal()]\n",
    "functions.play_board(bots, grid_size = 13)"
   ]
  }
 ],
 "metadata": {
  "kernelspec": {
   "display_name": "Python 3",
   "language": "python",
   "name": "python3"
  },
  "language_info": {
   "codemirror_mode": {
    "name": "ipython",
    "version": 3
   },
   "file_extension": ".py",
   "mimetype": "text/x-python",
   "name": "python",
   "nbconvert_exporter": "python",
   "pygments_lexer": "ipython3",
   "version": "3.7.6"
  }
 },
 "nbformat": 4,
 "nbformat_minor": 4
}
